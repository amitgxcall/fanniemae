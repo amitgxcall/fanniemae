import boto3
import json

# Initialize the SageMaker runtime client
sagemaker_runtime = boto3.client("sagemaker-runtime", region_name="us-east-1")



# Define the payload
payload = {
    "inputs": "<|begin_of_text|><|start_header_id|>user<|end_header_id|>\n\nwhat is the recipe of mayonnaise?<|eot_id|><|start_header_id|>assistant<|end_header_id|>\n\n",
    "parameters": {
        "max_new_tokens": 256,
        "top_p": 0.9,
        "temperature": 0.6,
        "details": True
    }
}

# Invoke the endpoint
response = sagemaker_runtime.invoke_endpoint(
    EndpointName=endpoint_name,
    ContentType="application/json",
    Body=json.dumps(payload)
)

# Read and decode the response
result = response["Body"].read().decode("utf-8")
print("Model Response:\n", result)
